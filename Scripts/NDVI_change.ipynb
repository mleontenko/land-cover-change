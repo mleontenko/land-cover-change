{
 "cells": [
  {
   "cell_type": "code",
   "execution_count": 41,
   "metadata": {},
   "outputs": [],
   "source": [
    "#import modules\n",
    "from osgeo import ogr, gdal, osr\n",
    "import numpy as np\n",
    "import os\n",
    "import matplotlib.pyplot as plt"
   ]
  },
  {
   "cell_type": "code",
   "execution_count": 42,
   "metadata": {},
   "outputs": [],
   "source": [
    "#Input rasters (clipped)\n",
    "\n",
    "#Image-2018\n",
    "path_NDVI_2017=\"../Neretva_NDVI_clip/clipped_2017.tif\"\n",
    "\n",
    "#Image-2017\n",
    "path_NDVI_2018=\"../Neretva_NDVI_clip/clipped_2018.tif\""
   ]
  },
  {
   "cell_type": "code",
   "execution_count": 43,
   "metadata": {},
   "outputs": [],
   "source": [
    "#Open raster bands\n",
    "NDVI_2017 = gdal.Open(path_NDVI_2017)\n",
    "NDVI_2018 = gdal.Open(path_NDVI_2018)\n",
    "\n",
    "#Read bands as matrix arrays\n",
    "NDVI_2017_data = NDVI_2017.GetRasterBand(1).ReadAsArray().astype(np.float32)\n",
    "NDVI_2018_data = NDVI_2018.GetRasterBand(1).ReadAsArray().astype(np.float32)"
   ]
  },
  {
   "cell_type": "code",
   "execution_count": 44,
   "metadata": {},
   "outputs": [
    {
     "name": "stdout",
     "output_type": "stream",
     "text": [
      "PROJCS[\"WGS 84 / Pseudo-Mercator\",GEOGCS[\"WGS 84\",DATUM[\"WGS_1984\",SPHEROID[\"WGS 84\",6378137,298.257223563,AUTHORITY[\"EPSG\",\"7030\"]],AUTHORITY[\"EPSG\",\"6326\"]],PRIMEM[\"Greenwich\",0,AUTHORITY[\"EPSG\",\"8901\"]],UNIT[\"degree\",0.0174532925199433,AUTHORITY[\"EPSG\",\"9122\"]],AUTHORITY[\"EPSG\",\"4326\"]],PROJECTION[\"Mercator_1SP\"],PARAMETER[\"central_meridian\",0],PARAMETER[\"scale_factor\",1],PARAMETER[\"false_easting\",0],PARAMETER[\"false_northing\",0],UNIT[\"metre\",1,AUTHORITY[\"EPSG\",\"9001\"]],AXIS[\"X\",EAST],AXIS[\"Y\",NORTH],EXTENSION[\"PROJ4\",\"+proj=merc +a=6378137 +b=6378137 +lat_ts=0.0 +lon_0=0.0 +x_0=0.0 +y_0=0 +k=1.0 +units=m +nadgrids=@null +wktext +no_defs\"],AUTHORITY[\"EPSG\",\"3857\"]]\n",
      "PROJCS[\"WGS 84 / Pseudo-Mercator\",GEOGCS[\"WGS 84\",DATUM[\"WGS_1984\",SPHEROID[\"WGS 84\",6378137,298.257223563,AUTHORITY[\"EPSG\",\"7030\"]],AUTHORITY[\"EPSG\",\"6326\"]],PRIMEM[\"Greenwich\",0,AUTHORITY[\"EPSG\",\"8901\"]],UNIT[\"degree\",0.0174532925199433,AUTHORITY[\"EPSG\",\"9122\"]],AUTHORITY[\"EPSG\",\"4326\"]],PROJECTION[\"Mercator_1SP\"],PARAMETER[\"central_meridian\",0],PARAMETER[\"scale_factor\",1],PARAMETER[\"false_easting\",0],PARAMETER[\"false_northing\",0],UNIT[\"metre\",1,AUTHORITY[\"EPSG\",\"9001\"]],AXIS[\"X\",EAST],AXIS[\"Y\",NORTH],EXTENSION[\"PROJ4\",\"+proj=merc +a=6378137 +b=6378137 +lat_ts=0.0 +lon_0=0.0 +x_0=0.0 +y_0=0 +k=1.0 +units=m +nadgrids=@null +wktext +no_defs\"],AUTHORITY[\"EPSG\",\"3857\"]]\n",
      "SRC OK\n"
     ]
    }
   ],
   "source": [
    "print(NDVI_2017.GetProjection()[:980])\n",
    "print(NDVI_2018.GetProjection()[:980])\n",
    "if NDVI_2017.GetProjection()[:80]==NDVI_2018.GetProjection()[:80]: print('SRC OK')"
   ]
  },
  {
   "cell_type": "code",
   "execution_count": 45,
   "metadata": {},
   "outputs": [
    {
     "name": "stdout",
     "output_type": "stream",
     "text": [
      "(488, 826)\n",
      "(488, 826)\n",
      "Array Size OK\n"
     ]
    }
   ],
   "source": [
    "print(NDVI_2017_data.shape)\n",
    "print(NDVI_2018_data.shape)\n",
    "if NDVI_2017_data.shape==NDVI_2018_data.shape: print('Array Size OK')"
   ]
  },
  {
   "cell_type": "code",
   "execution_count": 46,
   "metadata": {},
   "outputs": [
    {
     "name": "stdout",
     "output_type": "stream",
     "text": [
      "[[0.   0.   0.   ... 0.   0.19 0.  ]\n",
      " [0.   0.   0.   ... 0.   0.   0.  ]\n",
      " [0.06 0.   0.   ... 0.   0.   0.  ]\n",
      " ...\n",
      " [0.   0.06 0.13 ... 0.31 0.25 0.  ]\n",
      " [0.   0.   0.   ... 0.31 0.31 0.  ]\n",
      " [0.   0.   0.   ... 0.25 0.31 0.  ]]\n",
      "[[0.   0.   0.   ... 0.   0.   0.  ]\n",
      " [0.06 0.   0.   ... 0.   0.   0.  ]\n",
      " [0.13 0.   0.   ... 0.   0.   0.  ]\n",
      " ...\n",
      " [0.   0.   0.   ... 0.25 0.31 0.  ]\n",
      " [0.   0.   0.   ... 0.25 0.25 0.  ]\n",
      " [0.   0.   0.   ... 0.19 0.25 0.  ]]\n"
     ]
    }
   ],
   "source": [
    "print(NDVI_2017_data)\n",
    "print(NDVI_2018_data)"
   ]
  },
  {
   "cell_type": "code",
   "execution_count": 47,
   "metadata": {},
   "outputs": [],
   "source": [
    "NDVI_2017_data[NDVI_2017_data == 0] = -999\n",
    "NDVI_2018_data[NDVI_2018_data == 0] = -999"
   ]
  },
  {
   "cell_type": "code",
   "execution_count": 48,
   "metadata": {},
   "outputs": [
    {
     "name": "stdout",
     "output_type": "stream",
     "text": [
      "[[-9.99e+02 -9.99e+02 -9.99e+02 ... -9.99e+02  1.90e-01 -9.99e+02]\n",
      " [-9.99e+02 -9.99e+02 -9.99e+02 ... -9.99e+02 -9.99e+02 -9.99e+02]\n",
      " [ 6.00e-02 -9.99e+02 -9.99e+02 ... -9.99e+02 -9.99e+02 -9.99e+02]\n",
      " ...\n",
      " [-9.99e+02  6.00e-02  1.30e-01 ...  3.10e-01  2.50e-01 -9.99e+02]\n",
      " [-9.99e+02 -9.99e+02 -9.99e+02 ...  3.10e-01  3.10e-01 -9.99e+02]\n",
      " [-9.99e+02 -9.99e+02 -9.99e+02 ...  2.50e-01  3.10e-01 -9.99e+02]]\n",
      "[[-9.99e+02 -9.99e+02 -9.99e+02 ... -9.99e+02 -9.99e+02 -9.99e+02]\n",
      " [ 6.00e-02 -9.99e+02 -9.99e+02 ... -9.99e+02 -9.99e+02 -9.99e+02]\n",
      " [ 1.30e-01 -9.99e+02 -9.99e+02 ... -9.99e+02 -9.99e+02 -9.99e+02]\n",
      " ...\n",
      " [-9.99e+02 -9.99e+02 -9.99e+02 ...  2.50e-01  3.10e-01 -9.99e+02]\n",
      " [-9.99e+02 -9.99e+02 -9.99e+02 ...  2.50e-01  2.50e-01 -9.99e+02]\n",
      " [-9.99e+02 -9.99e+02 -9.99e+02 ...  1.90e-01  2.50e-01 -9.99e+02]]\n"
     ]
    }
   ],
   "source": [
    "print(NDVI_2017_data)\n",
    "print(NDVI_2018_data)"
   ]
  },
  {
   "cell_type": "code",
   "execution_count": 49,
   "metadata": {},
   "outputs": [
    {
     "name": "stdout",
     "output_type": "stream",
     "text": [
      "(1936400.0, 40.0, 0.0, 5323880.0, 0.0, -40.0)\n",
      "(1936400.0, 40.0, 0.0, 5323880.0, 0.0, -40.0)\n",
      "Geotransformation OK\n"
     ]
    }
   ],
   "source": [
    "print(NDVI_2017.GetGeoTransform())\n",
    "print(NDVI_2018.GetGeoTransform())\n",
    "if NDVI_2017.GetGeoTransform()==NDVI_2018.GetGeoTransform(): print('Geotransformation OK')"
   ]
  },
  {
   "cell_type": "code",
   "execution_count": 50,
   "metadata": {},
   "outputs": [],
   "source": [
    "geotransform = NDVI_2017.GetGeoTransform()\n",
    "\n",
    "originX,pixelWidth,empty,finalY,empty2,pixelHeight=geotransform\n",
    "cols =  NDVI_2017.RasterXSize\n",
    "rows =  NDVI_2017.RasterYSize"
   ]
  },
  {
   "cell_type": "code",
   "execution_count": 51,
   "metadata": {},
   "outputs": [],
   "source": [
    "projection = NDVI_2017.GetProjection()"
   ]
  },
  {
   "cell_type": "code",
   "execution_count": 52,
   "metadata": {},
   "outputs": [],
   "source": [
    "finalX = originX + pixelWidth * cols\n",
    "originY = finalY + pixelHeight * rows"
   ]
  },
  {
   "cell_type": "code",
   "execution_count": 53,
   "metadata": {},
   "outputs": [],
   "source": [
    "extentArray = [originX,finalX,originY,finalY]\n",
    "def plotNDVI(ndviImage,extentArray,vmin,cmap):\n",
    "    ndvi = gdal.Open(ndviImage)\n",
    "    ds2019 = ndvi.ReadAsArray()\n",
    "    plt.figure(figsize=(20,15))\n",
    "    im = plt.imshow(ds2019, vmin=vmin, cmap=cmap, extent=extentArray)#\n",
    "    plt.colorbar(im, fraction=0.015)\n",
    "    plt.xlabel('Este')\n",
    "    plt.ylabel('Norte')\n",
    "    plt.show()"
   ]
  },
  {
   "cell_type": "code",
   "execution_count": 55,
   "metadata": {},
   "outputs": [
    {
     "data": {
      "text/plain": [
       "array([[-9.9900000e+02, -9.9900000e+02, -9.9900000e+02, ...,\n",
       "        -9.9900000e+02, -9.9900000e+02, -9.9900000e+02],\n",
       "       [-9.9900000e+02, -9.9900000e+02, -9.9900000e+02, ...,\n",
       "        -9.9900000e+02, -9.9900000e+02, -9.9900000e+02],\n",
       "       [ 6.9999993e-02, -9.9900000e+02, -9.9900000e+02, ...,\n",
       "        -9.9900000e+02, -9.9900000e+02, -9.9900000e+02],\n",
       "       ...,\n",
       "       [-9.9900000e+02, -9.9900000e+02, -9.9900000e+02, ...,\n",
       "        -6.0000002e-02,  6.0000002e-02, -9.9900000e+02],\n",
       "       [-9.9900000e+02, -9.9900000e+02, -9.9900000e+02, ...,\n",
       "        -6.0000002e-02, -6.0000002e-02, -9.9900000e+02],\n",
       "       [-9.9900000e+02, -9.9900000e+02, -9.9900000e+02, ...,\n",
       "        -6.0000002e-02, -6.0000002e-02, -9.9900000e+02]], dtype=float32)"
      ]
     },
     "execution_count": 55,
     "metadata": {},
     "output_type": "execute_result"
    }
   ],
   "source": [
    "ndviChange = NDVI_2018_data-NDVI_2017_data\n",
    "ndviChange = np.where((NDVI_2017_data>-999) & (NDVI_2018_data>-999),ndviChange,-999)\n",
    "ndviChange"
   ]
  },
  {
   "cell_type": "code",
   "execution_count": 56,
   "metadata": {},
   "outputs": [],
   "source": [
    "def saveRaster(dataset,datasetPath,cols,rows,projection):\n",
    "    rasterSet = gdal.GetDriverByName('GTiff').Create(datasetPath, cols, rows,1,gdal.GDT_Float32)\n",
    "    rasterSet.SetProjection(projection)\n",
    "    rasterSet.SetGeoTransform(geotransform)\n",
    "    rasterSet.GetRasterBand(1).WriteArray(dataset)\n",
    "    rasterSet.GetRasterBand(1).SetNoDataValue(-999)\n",
    "    rasterSet = None"
   ]
  },
  {
   "cell_type": "code",
   "execution_count": 57,
   "metadata": {},
   "outputs": [],
   "source": [
    "#Output NDVI Rasters \n",
    "path_NDVI_change = '../Output/NDVI_change.tif'"
   ]
  },
  {
   "cell_type": "code",
   "execution_count": 59,
   "metadata": {},
   "outputs": [],
   "source": [
    "saveRaster(ndviChange,path_NDVI_change,cols,rows,projection)"
   ]
  }
 ],
 "metadata": {
  "kernelspec": {
   "display_name": "Python 3",
   "language": "python",
   "name": "python3"
  },
  "language_info": {
   "codemirror_mode": {
    "name": "ipython",
    "version": 3
   },
   "file_extension": ".py",
   "mimetype": "text/x-python",
   "name": "python",
   "nbconvert_exporter": "python",
   "pygments_lexer": "ipython3",
   "version": "3.6.8"
  }
 },
 "nbformat": 4,
 "nbformat_minor": 2
}
