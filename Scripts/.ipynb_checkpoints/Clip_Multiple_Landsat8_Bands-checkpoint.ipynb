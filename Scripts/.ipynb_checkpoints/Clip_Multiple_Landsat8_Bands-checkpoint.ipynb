{
 "cells": [
  {
   "cell_type": "markdown",
   "metadata": {},
   "source": [
    "### Import requires libraries"
   ]
  },
  {
   "cell_type": "code",
   "execution_count": 1,
   "metadata": {},
   "outputs": [],
   "source": [
    "from osgeo import gdal\n",
    "import os"
   ]
  },
  {
   "cell_type": "markdown",
   "metadata": {},
   "source": [
    "### Setting up the input and output files"
   ]
  },
  {
   "cell_type": "code",
   "execution_count": 2,
   "metadata": {},
   "outputs": [
    {
     "data": {
      "text/plain": [
       "['LC08_L1TP_029047_20190203_20190206_01_T1_B1.TIF',\n",
       " 'LC08_L1TP_029047_20190203_20190206_01_T1_B10.TIF',\n",
       " 'LC08_L1TP_029047_20190203_20190206_01_T1_B11.TIF',\n",
       " 'LC08_L1TP_029047_20190203_20190206_01_T1_B2.TIF',\n",
       " 'LC08_L1TP_029047_20190203_20190206_01_T1_B3.TIF',\n",
       " 'LC08_L1TP_029047_20190203_20190206_01_T1_B4.TIF',\n",
       " 'LC08_L1TP_029047_20190203_20190206_01_T1_B5.TIF',\n",
       " 'LC08_L1TP_029047_20190203_20190206_01_T1_B6.TIF',\n",
       " 'LC08_L1TP_029047_20190203_20190206_01_T1_B7.TIF',\n",
       " 'LC08_L1TP_029047_20190203_20190206_01_T1_B8.TIF',\n",
       " 'LC08_L1TP_029047_20190203_20190206_01_T1_B9.TIF',\n",
       " 'LC08_L1TP_029047_20190203_20190206_01_T1_BQA.TIF']"
      ]
     },
     "execution_count": 2,
     "metadata": {},
     "output_type": "execute_result"
    }
   ],
   "source": [
    "#Input and output paths\n",
    "inputPath = '../Images/'\n",
    "#inputPath = '../Imagesc1/'\n",
    "outputPath = '../Output/'\n",
    "\n",
    "#Input Raster and Vector Paths\n",
    "bandList = [band for band in os.listdir(inputPath) if band[-4:]=='.TIF']\n",
    "bandList "
   ]
  },
  {
   "cell_type": "code",
   "execution_count": 3,
   "metadata": {},
   "outputs": [],
   "source": [
    "#Shapefile of Area of Influence\n",
    "shp_clip = '../Shp/AOI_1.shp'"
   ]
  },
  {
   "cell_type": "markdown",
   "metadata": {},
   "source": [
    "### Warp Rasters"
   ]
  },
  {
   "cell_type": "code",
   "execution_count": 6,
   "metadata": {},
   "outputs": [
    {
     "name": "stdout",
     "output_type": "stream",
     "text": [
      "../Output/LC08_L1TP_029047_20190203_20190206_01_T1_B1_c2.TIF\n",
      "../Output/LC08_L1TP_029047_20190203_20190206_01_T1_B10_c2.TIF\n",
      "../Output/LC08_L1TP_029047_20190203_20190206_01_T1_B11_c2.TIF\n",
      "../Output/LC08_L1TP_029047_20190203_20190206_01_T1_B2_c2.TIF\n",
      "../Output/LC08_L1TP_029047_20190203_20190206_01_T1_B3_c2.TIF\n",
      "../Output/LC08_L1TP_029047_20190203_20190206_01_T1_B4_c2.TIF\n",
      "../Output/LC08_L1TP_029047_20190203_20190206_01_T1_B5_c2.TIF\n",
      "../Output/LC08_L1TP_029047_20190203_20190206_01_T1_B6_c2.TIF\n",
      "../Output/LC08_L1TP_029047_20190203_20190206_01_T1_B7_c2.TIF\n",
      "../Output/LC08_L1TP_029047_20190203_20190206_01_T1_B8_c2.TIF\n",
      "../Output/LC08_L1TP_029047_20190203_20190206_01_T1_B9_c2.TIF\n",
      "../Output/LC08_L1TP_029047_20190203_20190206_01_T1_BQA_c2.TIF\n"
     ]
    }
   ],
   "source": [
    "for band in bandList:\n",
    "    print(outputPath + band[:-4]+'_c2'+band[-4:])\n",
    "    options = gdal.WarpOptions(cutlineDSName=shp_clip,cropToCutline=True)\n",
    "    outBand = gdal.Warp(srcDSOrSrcDSTab=inputPath + band,\n",
    "                        destNameOrDestDS=outputPath + band[:-4]+'_c2'+band[-4:],\n",
    "                        options=options)\n",
    "    outBand= None"
   ]
  },
  {
   "cell_type": "code",
   "execution_count": null,
   "metadata": {},
   "outputs": [],
   "source": []
  }
 ],
 "metadata": {
  "kernelspec": {
   "display_name": "Python 3",
   "language": "python",
   "name": "python3"
  },
  "language_info": {
   "codemirror_mode": {
    "name": "ipython",
    "version": 3
   },
   "file_extension": ".py",
   "mimetype": "text/x-python",
   "name": "python",
   "nbconvert_exporter": "python",
   "pygments_lexer": "ipython3",
   "version": "3.7.0"
  }
 },
 "nbformat": 4,
 "nbformat_minor": 2
}
